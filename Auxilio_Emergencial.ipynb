{
  "nbformat": 4,
  "nbformat_minor": 0,
  "metadata": {
    "colab": {
      "name": "Auxilio Emergencial.ipynb",
      "provenance": [],
      "mount_file_id": "1_H3wyBW6Ytfi3ka3ROHikn69pxE3uZdx",
      "authorship_tag": "ABX9TyPNkLhkK25g9o35hcSFhe3u",
      "include_colab_link": true
    },
    "kernelspec": {
      "name": "python3",
      "display_name": "Python 3"
    }
  },
  "cells": [
    {
      "cell_type": "markdown",
      "metadata": {
        "id": "view-in-github",
        "colab_type": "text"
      },
      "source": [
        "<a href=\"https://colab.research.google.com/github/Mrnine12/AuxilioEmergencialAnalise/blob/master/Auxilio_Emergencial.ipynb\" target=\"_parent\"><img src=\"https://colab.research.google.com/assets/colab-badge.svg\" alt=\"Open In Colab\"/></a>"
      ]
    },
    {
      "cell_type": "markdown",
      "metadata": {
        "id": "1e1N0wpemB3-",
        "colab_type": "text"
      },
      "source": [
        "##**Análise da distribuição do auxílio emergencial pelo Brasil**"
      ]
    },
    {
      "cell_type": "markdown",
      "metadata": {
        "id": "75zRWgk5mTNs",
        "colab_type": "text"
      },
      "source": [
        "Frente a pandemia provocada pelo novo coronavírus, como forma de tentar diminuir os efeitos causados pela mesma principalmente para a população mais pobre, um auxílio emergencial foi criado pelo governo federal no valor de R$ 600.00. Por ser um país muito grande, esse dinheiro se distribui de forma diferente pelo territorio nacional, com essa análise busco trazer um maior entendimento da situação do auxílio no país."
      ]
    },
    {
      "cell_type": "code",
      "metadata": {
        "id": "ESe7Aamjl9N9",
        "colab_type": "code",
        "colab": {}
      },
      "source": [
        "import numpy as np\n",
        "import pandas as pd\n",
        "import matplotlib.pyplot as plt\n",
        "import matplotlib.patches as mpat\n",
        "\n",
        "auxilio = pd.read_excel(\"/content/drive/My Drive/Auxilio.xlsx\", sheet_name = 0)\n",
        "auxilio_estados = pd.read_excel(\"/content/drive/My Drive/Auxilio.xlsx\", sheet_name = 1)"
      ],
      "execution_count": null,
      "outputs": []
    },
    {
      "cell_type": "code",
      "metadata": {
        "id": "uI849KpKodqT",
        "colab_type": "code",
        "colab": {}
      },
      "source": [
        "plt.bar(auxilio[\"Tipo\"][0:3], auxilio[\"Beneficiários\"][0:3])\n",
        "\n",
        "plt.ylabel('Beneficiários (em milhões)')\n",
        "plt.title('Distribuição dos Beneficiários')\n",
        "\n",
        "plt.show()"
      ],
      "execution_count": null,
      "outputs": []
    },
    {
      "cell_type": "markdown",
      "metadata": {
        "id": "5tXBgkobtcXf",
        "colab_type": "text"
      },
      "source": [
        "Com base nessa primeira imagem, podemos ter uma ideia de como está distribuido os beneficiários do auxílio emergencial do governo federal entre os três grupos possíveis de beneficiários (cadastrados no CadÚnico, beneficiários do Bolsa Família e os que se cadastraram através do Site ou App lançado após a criação do auxílio)."
      ]
    },
    {
      "cell_type": "code",
      "metadata": {
        "id": "-rknhcxBvCW6",
        "colab_type": "code",
        "colab": {}
      },
      "source": [
        "ind = np.arange(3)\n",
        "\n",
        "plt.bar(ind, auxilio[\"Cadastrados\"][0:3], width = 0.25, label = \"Cadastrados\")\n",
        "plt.bar(ind + 0.25, auxilio[\"Elegiveis\"][0:3], width = 0.25, label = \"Elegiveis\")\n",
        "plt.bar(ind + 0.5, auxilio[\"Inelegiveis\"][0:3], width = 0.25, label = \"Inelegiveis\")\n",
        "\n",
        "plt.ylabel('Inscritos (em milhões)')\n",
        "plt.title('Distribuição dos inscritos entre elegiveis e inelegiveis')\n",
        "plt.xticks(ind + 0.25, ('CadÚnico', 'App/Site', 'Bolsa Família'))\n",
        "plt.legend(loc = 'best')\n",
        "\n",
        "plt.show()"
      ],
      "execution_count": null,
      "outputs": []
    },
    {
      "cell_type": "markdown",
      "metadata": {
        "id": "ONqvqB-PxYlQ",
        "colab_type": "text"
      },
      "source": [
        "Em seguida, podemos observar a divisão dos inscritos no auxílio emergencial entre elegiveis e inelegiveis, dado que todos os possíveis beneficiários foram analisados para evitar fraudes, sendo possível destacar o alto número de inelegiveis dentre as pessoas que estão cadastradas no Cadastro Único."
      ]
    },
    {
      "cell_type": "code",
      "metadata": {
        "id": "d_fschsQ4TiV",
        "colab_type": "code",
        "colab": {}
      },
      "source": [
        "df = auxilio_estados[[\"Regiao\", \"Porcentagem\"]]\n",
        "df = pd.DataFrame(df.groupby([\"Regiao\"]).sum())\n",
        "\n",
        "labels = [\"Centro Oeste\", \"Nordeste\", \"Norte\", \"Sudeste\", \"Sul\"]\n",
        "sizes = df[\"Porcentagem\"]\n",
        "\n",
        "c = [\"#2039CC\", \"#192DA1\", \"#111E6C\", \"#0C154A\", \"#080E33\"]\n",
        "expl = (0, 0.1, 0, 0, 0)\n",
        "\n",
        "plt.subplots(figsize = (6,6))\n",
        "patches, texts, autotexts = plt.pie(sizes, explode = expl, labels = labels, autopct = \"%1.1f%%\", shadow = False, \n",
        "                                    startangle = 60, colors = c, pctdistance = 0.6)\n",
        "\n",
        "for text in texts: text.set_color('black')\n",
        "for autotext in autotexts: autotext.set_color('white')\n",
        "\n",
        "plt.show()"
      ],
      "execution_count": null,
      "outputs": []
    },
    {
      "cell_type": "markdown",
      "metadata": {
        "id": "HFt2_UpMA2Vn",
        "colab_type": "text"
      },
      "source": [
        "Por fim, ao observar a distribuição dos valores repassados para a população através do auxílio emergencial, é possível notar uma maior concentração de valores nas regiões nordeste (uma das regiões mais pobres) e sudeste (região mais populosa) do país."
      ]
    },
    {
      "cell_type": "markdown",
      "metadata": {
        "id": "n_w7UUAVE4qW",
        "colab_type": "text"
      },
      "source": [
        "Dentre informações extras que podem ser observadas temos o fato de que dentre as pessoas que fizeram a solicitação do auxílio emergencial desde a sua criação em meados de Abril até 25 de junho (data da última apresentação de balanço pela caixa economica federal), 3.3 milhões de pessoas ainda permanecem em análise, sendo 2 milhões de pessoas realizando a primeira análise e mais 1.3 milhões de pessoas que estão em processo de reanalise."
      ]
    },
    {
      "cell_type": "markdown",
      "metadata": {
        "id": "J16no-x-F3vn",
        "colab_type": "text"
      },
      "source": [
        "Vale ressaltar também que hoje o número total de pessoas que são consideradas elegiveis para o recebimento do auxílio já passa de 64 milhões de brasileiros e brasileiras, sendo provavel que esse número aumente nas próximas semanas dado o número de pessoas ainda em análise. Como também, temos que mais de 90 bilhões de reais já foram repassados para estas pessoas."
      ]
    }
  ]
}